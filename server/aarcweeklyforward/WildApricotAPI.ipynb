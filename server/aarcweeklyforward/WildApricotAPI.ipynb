{
 "cells": [
  {
   "cell_type": "markdown",
   "metadata": {},
   "source": [
    "This module provides set of classes for working with WildApricot public API v2.\n",
    "Public API documentation can be found here: http://help.wildapricot.com/display/DOC/API+Version+2\n",
    "Example:\n",
    "    api = WaApi.WaApiClient()\n",
    "    api.authenticate_with_contact_credentials(\"admin@youraccount.com\", \"your_password\")\n",
    "    accounts = api.execute_request(\"/v2/accounts\")\n",
    "    for account in accounts:\n",
    "        print(account.PrimaryDomainName)\n",
    "       "
   ]
  },
  {
   "cell_type": "code",
   "execution_count": 4,
   "metadata": {},
   "outputs": [],
   "source": [
    "import datetime\n",
    "import urllib.request\n",
    "import urllib.response\n",
    "import urllib.error\n",
    "import urllib.parse\n",
    "import json\n",
    "import base64\n",
    "\n",
    "\n",
    "class WaApiClient(object):\n",
    "    \"\"\"Wild apricot API client.\"\"\"\n",
    "    auth_endpoint = \"https://oauth.wildapricot.org/auth/token\"\n",
    "    api_endpoint = \"https://api.wildapricot.org\"\n",
    "    _token = None\n",
    "    client_id = None\n",
    "    client_secret = None\n",
    "\n",
    "    def __init__(self, client_id, client_secret):\n",
    "        self.client_id = client_id\n",
    "        self.client_secret = client_secret\n",
    "\n",
    "    def authenticate_with_apikey(self, api_key, scope=None):\n",
    "        \"\"\"perform authentication by api key and store result for execute_request method\n",
    "        api_key -- secret api key from account settings\n",
    "        scope -- optional scope of authentication request. If None full list of API scopes will be used.\n",
    "        \"\"\"\n",
    "        scope = \"auto\" if scope is None else scope\n",
    "        data = {\n",
    "            \"grant_type\": \"client_credentials\",\n",
    "            \"scope\": scope\n",
    "        }\n",
    "        encoded_data = urllib.parse.urlencode(data).encode()\n",
    "        request = urllib.request.Request(self.auth_endpoint, encoded_data, method=\"POST\")\n",
    "        request.add_header(\"ContentType\", \"application/x-www-form-urlencoded\")\n",
    "        request.add_header(\"Authorization\", 'Basic ' + base64.standard_b64encode(('APIKEY:' + api_key).encode()).decode())\n",
    "        response = urllib.request.urlopen(request)\n",
    "        self._token = WaApiClient._parse_response(response)\n",
    "        self._token.retrieved_at = datetime.datetime.now()\n",
    "\n",
    "    def authenticate_with_contact_credentials(self, username, password, scope=None):\n",
    "        \"\"\"perform authentication by contact credentials and store result for execute_request method\n",
    "        username -- typically a contact email\n",
    "        password -- contact password\n",
    "        scope -- optional scope of authentication request. If None full list of API scopes will be used.\n",
    "        \"\"\"\n",
    "        scope = \"auto\" if scope is None else scope\n",
    "        data = {\n",
    "            \"grant_type\": \"password\",\n",
    "            \"username\": username,\n",
    "            \"password\": password,\n",
    "            \"scope\": scope\n",
    "        }\n",
    "        encoded_data = urllib.parse.urlencode(data).encode()\n",
    "        request = urllib.request.Request(self.auth_endpoint, encoded_data, method=\"POST\")\n",
    "        request.add_header(\"ContentType\", \"application/x-www-form-urlencoded\")\n",
    "        auth_header = base64.standard_b64encode((self.client_id + ':' + self.client_secret).encode()).decode()\n",
    "        request.add_header(\"Authorization\", 'Basic ' + auth_header)\n",
    "        response = urllib.request.urlopen(request)\n",
    "        self._token = WaApiClient._parse_response(response)\n",
    "        self._token.retrieved_at = datetime.datetime.now()\n",
    "\n",
    "    def execute_request(self, api_url, api_request_object=None, method=None):\n",
    "        \"\"\"\n",
    "        perform api request and return result as an instance of ApiObject or list of ApiObjects\n",
    "        api_url -- absolute or relative api resource url\n",
    "        api_request_object -- any json serializable object to send to API\n",
    "        method -- HTTP method of api request. Default: GET if api_request_object is None else POST\n",
    "        \"\"\"\n",
    "        if self._token is None:\n",
    "            raise ApiException(\"Access token is not abtained. \"\n",
    "                               \"Call authenticate_with_apikey or authenticate_with_contact_credentials first.\")\n",
    "\n",
    "        if not api_url.startswith(\"http\"):\n",
    "            api_url = self.api_endpoint + api_url\n",
    "\n",
    "        if method is None:\n",
    "            if api_request_object is None:\n",
    "                method = \"GET\"\n",
    "            else:\n",
    "                method = \"POST\"\n",
    "\n",
    "        request = urllib.request.Request(api_url, method=method)\n",
    "        if api_request_object is not None:\n",
    "            request.data = json.dumps(api_request_object, cls=_ApiObjectEncoder).encode()\n",
    "\n",
    "        request.add_header(\"Content-Type\", \"application/json\")\n",
    "        request.add_header(\"Accept\", \"application/json\")\n",
    "        request.add_header(\"Authorization\", \"Bearer \" + self._get_access_token())\n",
    "        print(f'Sending: {request.data}')\n",
    "\n",
    "        try:\n",
    "            response = urllib.request.urlopen(request)\n",
    "            print(f'Received: {response.read().decode()}')\n",
    "            return WaApiClient._parse_response(response)\n",
    "        except urllib.error.HTTPError as httpErr:\n",
    "            if httpErr.code == 400:\n",
    "                raise ApiException(httpErr.read())\n",
    "            else:\n",
    "                raise\n",
    "\n",
    "    def _get_access_token(self):\n",
    "        expires_at = self._token.retrieved_at + datetime.timedelta(seconds=self._token.expires_in - 100)\n",
    "        now = datetime.datetime.now()\n",
    "        if datetime.datetime.now() > expires_at:\n",
    "            self._refresh_auth_token()\n",
    "        return self._token.access_token\n",
    "\n",
    "    def _refresh_auth_token(self):\n",
    "        data = {\n",
    "            \"grant_type\": \"refresh_token\",\n",
    "            \"refresh_token\": self._token.refresh_token\n",
    "        }\n",
    "        encoded_data = urllib.parse.urlencode(data).encode()\n",
    "        request = urllib.request.Request(self.auth_endpoint, encoded_data, method=\"POST\")\n",
    "        request.add_header(\"ContentType\", \"application/x-www-form-urlencoded\")\n",
    "        auth_header = base64.standard_b64encode((self.client_id + ':' + self.client_secret).encode()).decode()\n",
    "        request.add_header(\"Authorization\", 'Basic ' + auth_header)\n",
    "        response = urllib.request.urlopen(request)\n",
    "        self._token = WaApiClient._parse_response(response)\n",
    "        self._token.retrieved_at = datetime.datetime.now()\n",
    "\n",
    "    @staticmethod\n",
    "    def _parse_response(http_response):\n",
    "        decoded = json.loads(http_response.read().decode())\n",
    "        if isinstance(decoded, list):\n",
    "            result = []\n",
    "            for item in decoded:\n",
    "                result.append(ApiObject(item))\n",
    "            return result\n",
    "        elif isinstance(decoded, dict):\n",
    "            return ApiObject(decoded)\n",
    "        else:\n",
    "            return None\n",
    "\n",
    "\n",
    "class ApiException(Exception):\n",
    "    def __init__(self, value):\n",
    "        self.value = value\n",
    "\n",
    "    def __str__(self):\n",
    "        return repr(self.value)\n",
    "\n",
    "\n",
    "class ApiObject(object):\n",
    "    \"\"\"Represent any api call input or output object\"\"\"\n",
    "\n",
    "    def __init__(self, state):\n",
    "        self.__dict__ = state\n",
    "        for key, value in vars(self).items():\n",
    "            if isinstance(value, dict):\n",
    "                self.__dict__[key] = ApiObject(value)\n",
    "            elif isinstance(value, list):\n",
    "                new_list = []\n",
    "                for list_item in value:\n",
    "                    if isinstance(list_item, dict):\n",
    "                        new_list.append(ApiObject(list_item))\n",
    "                    else:\n",
    "                        new_list.append(list_item)\n",
    "                self.__dict__[key] = new_list\n",
    "\n",
    "    def __str__(self):\n",
    "        return json.dumps(self.__dict__)\n",
    "\n",
    "    def __repr__(self):\n",
    "        return json.dumps(self.__dict__)\n",
    "\n",
    "\n",
    "class _ApiObjectEncoder(json.JSONEncoder):\n",
    "    def default(self, obj):\n",
    "        if isinstance(obj, ApiObject):\n",
    "            return obj.__dict__\n",
    "        # Let the base class default method raise the TypeError\n",
    "        return json.JSONEncoder.default(self, obj)"
   ]
  },
  {
   "cell_type": "code",
   "execution_count": 5,
   "metadata": {},
   "outputs": [],
   "source": [
    "wa_api = WaApiClient(\"FunRunner\", \"dhp41we7yh5xkp2frgaxrq4c900ueh\")"
   ]
  },
  {
   "cell_type": "code",
   "execution_count": 6,
   "metadata": {},
   "outputs": [],
   "source": [
    "wa_api.authenticate_with_apikey(\"lh2j12qchscwrpdnpr06p28oruc9w7\")"
   ]
  },
  {
   "cell_type": "code",
   "execution_count": 7,
   "metadata": {},
   "outputs": [
    {
     "name": "stdout",
     "output_type": "stream",
     "text": [
      "Sending: None\n",
      "Received: [{\"Id\":30507,\"Url\":\"https://api.wildapricot.org/v2/Accounts/30507\",\"PrimaryDomainName\":\"Aarc.wildapricot.org\",\"Resources\":[{\"Name\":\"Features\",\"Url\":\"https://api.wildapricot.org/v2/accounts/30507/Features/\",\"AllowedOperations\":[\"GET\"]},{\"Name\":\"Contacts\",\"Url\":\"https://api.wildapricot.org/v2/accounts/30507/Contacts/\",\"AllowedOperations\":[\"GET\",\"POST\",\"PUT\",\"DELETE\"]},{\"Name\":\"Membership levels\",\"Url\":\"https://api.wildapricot.org/v2/accounts/30507/MembershipLevels/\",\"AllowedOperations\":[\"GET\"]},{\"Name\":\"Contact fields\",\"Url\":\"https://api.wildapricot.org/v2/accounts/30507/ContactFields/\",\"AllowedOperations\":[\"GET\",\"POST\",\"PUT\",\"DELETE\"]},{\"Name\":\"Member groups\",\"Url\":\"https://api.wildapricot.org/v2/accounts/30507/MemberGroups/\",\"AllowedOperations\":[\"GET\"]},{\"Name\":\"Saved searches\",\"Url\":\"https://api.wildapricot.org/v2/accounts/30507/SavedSearches/\",\"AllowedOperations\":[\"GET\"]},{\"Name\":\"Bundles\",\"Url\":\"https://api.wildapricot.org/v2/accounts/30507/Bundles/\",\"Description\":\"Requires levelId query string parameter.\",\"AllowedOperations\":[\"GET\"]},{\"Name\":\"Pictures\",\"Url\":\"https://api.wildapricot.org/v2/accounts/30507/Pictures/\",\"Description\":\"Requires pictureId query string parameter.\",\"AllowedOperations\":[\"GET\",\"POST\"]},{\"Name\":\"Invoices\",\"Url\":\"https://api.wildapricot.org/v2/accounts/30507/Invoices/\",\"Description\":\"Requires contactId or eventId query string parameter.\",\"AllowedOperations\":[\"GET\",\"POST\",\"PUT\",\"DELETE\"]},{\"Name\":\"Donation fields\",\"Url\":\"https://api.wildapricot.org/v2/accounts/30507/DonationFields/\",\"AllowedOperations\":[\"GET\",\"POST\",\"PUT\",\"DELETE\"]},{\"Name\":\"Donations\",\"Url\":\"https://api.wildapricot.org/v2/accounts/30507/Donations/\",\"Description\":\"Requires startDate and endDate query string parameter.\",\"AllowedOperations\":[\"GET\",\"PUT\"]},{\"Name\":\"Payments\",\"Url\":\"https://api.wildapricot.org/v2/accounts/30507/Payments/\",\"Description\":\"Requires contactId query string parameter.\",\"AllowedOperations\":[\"GET\",\"POST\",\"PUT\",\"DELETE\"]},{\"Name\":\"Refunds\",\"Url\":\"https://api.wildapricot.org/v2/accounts/30507/Refunds/\",\"Description\":\"Requires contactId query string parameter.\",\"AllowedOperations\":[\"GET\",\"POST\",\"PUT\",\"DELETE\"]},{\"Name\":\"Payment allocations\",\"Url\":\"https://api.wildapricot.org/v2/accounts/30507/PaymentAllocations/\",\"Description\":\"Requires paymentId or invoiceId query string parameter.\",\"AllowedOperations\":[\"GET\"]},{\"Name\":\"Tenders\",\"Url\":\"https://api.wildapricot.org/v2/accounts/30507/Tenders/\",\"AllowedOperations\":[\"GET\"]},{\"Name\":\"Audit log items\",\"Url\":\"https://api.wildapricot.org/v2/accounts/30507/AuditLogItems/\",\"AllowedOperations\":[\"GET\"]},{\"Name\":\"Events\",\"Url\":\"https://api.wildapricot.org/v2/accounts/30507/Events/\",\"AllowedOperations\":[\"GET\",\"POST\",\"PUT\",\"DELETE\"]},{\"Name\":\"Event registration types\",\"Url\":\"https://api.wildapricot.org/v2/accounts/30507/EventRegistrationTypes/\",\"AllowedOperations\":[\"GET\",\"POST\",\"PUT\",\"DELETE\"]},{\"Name\":\"Event registrations\",\"Url\":\"https://api.wildapricot.org/v2/accounts/30507/EventRegistrations/\",\"Description\":\"Requires contactId or eventId query string parameter.\",\"AllowedOperations\":[\"GET\",\"POST\",\"PUT\",\"DELETE\"]},{\"Name\":\"Email Log items\",\"Url\":\"https://api.wildapricot.org/v2/accounts/30507/SentEmails/\",\"AllowedOperations\":[\"GET\"]},{\"Name\":\"Recipients of an email sent\",\"Url\":\"https://api.wildapricot.org/v2/accounts/30507/SentEmailRecipients/\",\"AllowedOperations\":[\"GET\"]},{\"Name\":\"Email Drafts\",\"Url\":\"https://api.wildapricot.org/v2/accounts/30507/EmailDrafts/\",\"AllowedOperations\":[\"GET\",\"POST\",\"PUT\",\"DELETE\"]}],\"Localization\":{\"DateFormat\":\"dd MMM yyyy\",\"TimeFormat\":\"h:mm tt\"},\"TimeZone\":{\"ZoneId\":\"Eastern Standard Time\",\"Name\":\"(UTC-05:00) Eastern Time (US & Canada)\",\"UtcOffset\":-300},\"Currency\":{\"Name\":\"US Dollar\",\"Code\":\"USD\",\"Symbol\":\"$\"},\"SquareRegisterSettings\":{\"IntegrationEnabled\":true,\"ClientId\":\"sq0idp-sbFBgLEN8H6_MIvAObZM1g\"},\"IsFreeAccount\":false,\"BillingPlan\":{\"Name\":\"Community\",\"Price\":90.00},\"Name\":\"AARC\",\"ContactLimitInfo\":{\"CurrentContactsCount\":300,\"BillingPlanContactsLimit\":500}}]\n"
     ]
    },
    {
     "ename": "JSONDecodeError",
     "evalue": "Expecting value: line 1 column 1 (char 0)",
     "output_type": "error",
     "traceback": [
      "\u001b[1;31m---------------------------------------------------------------------------\u001b[0m",
      "\u001b[1;31mJSONDecodeError\u001b[0m                           Traceback (most recent call last)",
      "\u001b[1;32m<ipython-input-7-88b4e85471a5>\u001b[0m in \u001b[0;36m<module>\u001b[1;34m\u001b[0m\n\u001b[1;32m----> 1\u001b[1;33m \u001b[0maccounts\u001b[0m \u001b[1;33m=\u001b[0m \u001b[0mwa_api\u001b[0m\u001b[1;33m.\u001b[0m\u001b[0mexecute_request\u001b[0m\u001b[1;33m(\u001b[0m\u001b[1;34m\"/v2/accounts\"\u001b[0m\u001b[1;33m)\u001b[0m\u001b[1;33m\u001b[0m\u001b[1;33m\u001b[0m\u001b[0m\n\u001b[0m",
      "\u001b[1;32m<ipython-input-4-e2d57c4e2527>\u001b[0m in \u001b[0;36mexecute_request\u001b[1;34m(self, api_url, api_request_object, method)\u001b[0m\n\u001b[0;32m     92\u001b[0m             \u001b[0mresponse\u001b[0m \u001b[1;33m=\u001b[0m \u001b[0murllib\u001b[0m\u001b[1;33m.\u001b[0m\u001b[0mrequest\u001b[0m\u001b[1;33m.\u001b[0m\u001b[0murlopen\u001b[0m\u001b[1;33m(\u001b[0m\u001b[0mrequest\u001b[0m\u001b[1;33m)\u001b[0m\u001b[1;33m\u001b[0m\u001b[1;33m\u001b[0m\u001b[0m\n\u001b[0;32m     93\u001b[0m             \u001b[0mprint\u001b[0m\u001b[1;33m(\u001b[0m\u001b[1;34mf'Received: {response.read().decode()}'\u001b[0m\u001b[1;33m)\u001b[0m\u001b[1;33m\u001b[0m\u001b[1;33m\u001b[0m\u001b[0m\n\u001b[1;32m---> 94\u001b[1;33m             \u001b[1;32mreturn\u001b[0m \u001b[0mWaApiClient\u001b[0m\u001b[1;33m.\u001b[0m\u001b[0m_parse_response\u001b[0m\u001b[1;33m(\u001b[0m\u001b[0mresponse\u001b[0m\u001b[1;33m)\u001b[0m\u001b[1;33m\u001b[0m\u001b[1;33m\u001b[0m\u001b[0m\n\u001b[0m\u001b[0;32m     95\u001b[0m         \u001b[1;32mexcept\u001b[0m \u001b[0murllib\u001b[0m\u001b[1;33m.\u001b[0m\u001b[0merror\u001b[0m\u001b[1;33m.\u001b[0m\u001b[0mHTTPError\u001b[0m \u001b[1;32mas\u001b[0m \u001b[0mhttpErr\u001b[0m\u001b[1;33m:\u001b[0m\u001b[1;33m\u001b[0m\u001b[1;33m\u001b[0m\u001b[0m\n\u001b[0;32m     96\u001b[0m             \u001b[1;32mif\u001b[0m \u001b[0mhttpErr\u001b[0m\u001b[1;33m.\u001b[0m\u001b[0mcode\u001b[0m \u001b[1;33m==\u001b[0m \u001b[1;36m400\u001b[0m\u001b[1;33m:\u001b[0m\u001b[1;33m\u001b[0m\u001b[1;33m\u001b[0m\u001b[0m\n",
      "\u001b[1;32m<ipython-input-4-e2d57c4e2527>\u001b[0m in \u001b[0;36m_parse_response\u001b[1;34m(http_response)\u001b[0m\n\u001b[0;32m    122\u001b[0m     \u001b[1;33m@\u001b[0m\u001b[0mstaticmethod\u001b[0m\u001b[1;33m\u001b[0m\u001b[1;33m\u001b[0m\u001b[0m\n\u001b[0;32m    123\u001b[0m     \u001b[1;32mdef\u001b[0m \u001b[0m_parse_response\u001b[0m\u001b[1;33m(\u001b[0m\u001b[0mhttp_response\u001b[0m\u001b[1;33m)\u001b[0m\u001b[1;33m:\u001b[0m\u001b[1;33m\u001b[0m\u001b[1;33m\u001b[0m\u001b[0m\n\u001b[1;32m--> 124\u001b[1;33m         \u001b[0mdecoded\u001b[0m \u001b[1;33m=\u001b[0m \u001b[0mjson\u001b[0m\u001b[1;33m.\u001b[0m\u001b[0mloads\u001b[0m\u001b[1;33m(\u001b[0m\u001b[0mhttp_response\u001b[0m\u001b[1;33m.\u001b[0m\u001b[0mread\u001b[0m\u001b[1;33m(\u001b[0m\u001b[1;33m)\u001b[0m\u001b[1;33m.\u001b[0m\u001b[0mdecode\u001b[0m\u001b[1;33m(\u001b[0m\u001b[1;33m)\u001b[0m\u001b[1;33m)\u001b[0m\u001b[1;33m\u001b[0m\u001b[1;33m\u001b[0m\u001b[0m\n\u001b[0m\u001b[0;32m    125\u001b[0m         \u001b[1;32mif\u001b[0m \u001b[0misinstance\u001b[0m\u001b[1;33m(\u001b[0m\u001b[0mdecoded\u001b[0m\u001b[1;33m,\u001b[0m \u001b[0mlist\u001b[0m\u001b[1;33m)\u001b[0m\u001b[1;33m:\u001b[0m\u001b[1;33m\u001b[0m\u001b[1;33m\u001b[0m\u001b[0m\n\u001b[0;32m    126\u001b[0m             \u001b[0mresult\u001b[0m \u001b[1;33m=\u001b[0m \u001b[1;33m[\u001b[0m\u001b[1;33m]\u001b[0m\u001b[1;33m\u001b[0m\u001b[1;33m\u001b[0m\u001b[0m\n",
      "\u001b[1;32m~\\Anaconda3\\lib\\json\\__init__.py\u001b[0m in \u001b[0;36mloads\u001b[1;34m(s, encoding, cls, object_hook, parse_float, parse_int, parse_constant, object_pairs_hook, **kw)\u001b[0m\n\u001b[0;32m    346\u001b[0m             \u001b[0mparse_int\u001b[0m \u001b[1;32mis\u001b[0m \u001b[1;32mNone\u001b[0m \u001b[1;32mand\u001b[0m \u001b[0mparse_float\u001b[0m \u001b[1;32mis\u001b[0m \u001b[1;32mNone\u001b[0m \u001b[1;32mand\u001b[0m\u001b[1;33m\u001b[0m\u001b[1;33m\u001b[0m\u001b[0m\n\u001b[0;32m    347\u001b[0m             parse_constant is None and object_pairs_hook is None and not kw):\n\u001b[1;32m--> 348\u001b[1;33m         \u001b[1;32mreturn\u001b[0m \u001b[0m_default_decoder\u001b[0m\u001b[1;33m.\u001b[0m\u001b[0mdecode\u001b[0m\u001b[1;33m(\u001b[0m\u001b[0ms\u001b[0m\u001b[1;33m)\u001b[0m\u001b[1;33m\u001b[0m\u001b[1;33m\u001b[0m\u001b[0m\n\u001b[0m\u001b[0;32m    349\u001b[0m     \u001b[1;32mif\u001b[0m \u001b[0mcls\u001b[0m \u001b[1;32mis\u001b[0m \u001b[1;32mNone\u001b[0m\u001b[1;33m:\u001b[0m\u001b[1;33m\u001b[0m\u001b[1;33m\u001b[0m\u001b[0m\n\u001b[0;32m    350\u001b[0m         \u001b[0mcls\u001b[0m \u001b[1;33m=\u001b[0m \u001b[0mJSONDecoder\u001b[0m\u001b[1;33m\u001b[0m\u001b[1;33m\u001b[0m\u001b[0m\n",
      "\u001b[1;32m~\\Anaconda3\\lib\\json\\decoder.py\u001b[0m in \u001b[0;36mdecode\u001b[1;34m(self, s, _w)\u001b[0m\n\u001b[0;32m    335\u001b[0m \u001b[1;33m\u001b[0m\u001b[0m\n\u001b[0;32m    336\u001b[0m         \"\"\"\n\u001b[1;32m--> 337\u001b[1;33m         \u001b[0mobj\u001b[0m\u001b[1;33m,\u001b[0m \u001b[0mend\u001b[0m \u001b[1;33m=\u001b[0m \u001b[0mself\u001b[0m\u001b[1;33m.\u001b[0m\u001b[0mraw_decode\u001b[0m\u001b[1;33m(\u001b[0m\u001b[0ms\u001b[0m\u001b[1;33m,\u001b[0m \u001b[0midx\u001b[0m\u001b[1;33m=\u001b[0m\u001b[0m_w\u001b[0m\u001b[1;33m(\u001b[0m\u001b[0ms\u001b[0m\u001b[1;33m,\u001b[0m \u001b[1;36m0\u001b[0m\u001b[1;33m)\u001b[0m\u001b[1;33m.\u001b[0m\u001b[0mend\u001b[0m\u001b[1;33m(\u001b[0m\u001b[1;33m)\u001b[0m\u001b[1;33m)\u001b[0m\u001b[1;33m\u001b[0m\u001b[1;33m\u001b[0m\u001b[0m\n\u001b[0m\u001b[0;32m    338\u001b[0m         \u001b[0mend\u001b[0m \u001b[1;33m=\u001b[0m \u001b[0m_w\u001b[0m\u001b[1;33m(\u001b[0m\u001b[0ms\u001b[0m\u001b[1;33m,\u001b[0m \u001b[0mend\u001b[0m\u001b[1;33m)\u001b[0m\u001b[1;33m.\u001b[0m\u001b[0mend\u001b[0m\u001b[1;33m(\u001b[0m\u001b[1;33m)\u001b[0m\u001b[1;33m\u001b[0m\u001b[1;33m\u001b[0m\u001b[0m\n\u001b[0;32m    339\u001b[0m         \u001b[1;32mif\u001b[0m \u001b[0mend\u001b[0m \u001b[1;33m!=\u001b[0m \u001b[0mlen\u001b[0m\u001b[1;33m(\u001b[0m\u001b[0ms\u001b[0m\u001b[1;33m)\u001b[0m\u001b[1;33m:\u001b[0m\u001b[1;33m\u001b[0m\u001b[1;33m\u001b[0m\u001b[0m\n",
      "\u001b[1;32m~\\Anaconda3\\lib\\json\\decoder.py\u001b[0m in \u001b[0;36mraw_decode\u001b[1;34m(self, s, idx)\u001b[0m\n\u001b[0;32m    353\u001b[0m             \u001b[0mobj\u001b[0m\u001b[1;33m,\u001b[0m \u001b[0mend\u001b[0m \u001b[1;33m=\u001b[0m \u001b[0mself\u001b[0m\u001b[1;33m.\u001b[0m\u001b[0mscan_once\u001b[0m\u001b[1;33m(\u001b[0m\u001b[0ms\u001b[0m\u001b[1;33m,\u001b[0m \u001b[0midx\u001b[0m\u001b[1;33m)\u001b[0m\u001b[1;33m\u001b[0m\u001b[1;33m\u001b[0m\u001b[0m\n\u001b[0;32m    354\u001b[0m         \u001b[1;32mexcept\u001b[0m \u001b[0mStopIteration\u001b[0m \u001b[1;32mas\u001b[0m \u001b[0merr\u001b[0m\u001b[1;33m:\u001b[0m\u001b[1;33m\u001b[0m\u001b[1;33m\u001b[0m\u001b[0m\n\u001b[1;32m--> 355\u001b[1;33m             \u001b[1;32mraise\u001b[0m \u001b[0mJSONDecodeError\u001b[0m\u001b[1;33m(\u001b[0m\u001b[1;34m\"Expecting value\"\u001b[0m\u001b[1;33m,\u001b[0m \u001b[0ms\u001b[0m\u001b[1;33m,\u001b[0m \u001b[0merr\u001b[0m\u001b[1;33m.\u001b[0m\u001b[0mvalue\u001b[0m\u001b[1;33m)\u001b[0m \u001b[1;32mfrom\u001b[0m \u001b[1;32mNone\u001b[0m\u001b[1;33m\u001b[0m\u001b[1;33m\u001b[0m\u001b[0m\n\u001b[0m\u001b[0;32m    356\u001b[0m         \u001b[1;32mreturn\u001b[0m \u001b[0mobj\u001b[0m\u001b[1;33m,\u001b[0m \u001b[0mend\u001b[0m\u001b[1;33m\u001b[0m\u001b[1;33m\u001b[0m\u001b[0m\n",
      "\u001b[1;31mJSONDecodeError\u001b[0m: Expecting value: line 1 column 1 (char 0)"
     ]
    }
   ],
   "source": [
    "accounts = wa_api.execute_request(\"/v2/accounts\")"
   ]
  },
  {
   "cell_type": "code",
   "execution_count": 8,
   "metadata": {},
   "outputs": [
    {
     "ename": "NameError",
     "evalue": "name 'accounts' is not defined",
     "output_type": "error",
     "traceback": [
      "\u001b[1;31m---------------------------------------------------------------------------\u001b[0m",
      "\u001b[1;31mNameError\u001b[0m                                 Traceback (most recent call last)",
      "\u001b[1;32m<ipython-input-8-5d7c9fe02389>\u001b[0m in \u001b[0;36m<module>\u001b[1;34m\u001b[0m\n\u001b[1;32m----> 1\u001b[1;33m \u001b[0mtype\u001b[0m\u001b[1;33m(\u001b[0m\u001b[0maccounts\u001b[0m\u001b[1;33m)\u001b[0m\u001b[1;33m\u001b[0m\u001b[1;33m\u001b[0m\u001b[0m\n\u001b[0m",
      "\u001b[1;31mNameError\u001b[0m: name 'accounts' is not defined"
     ]
    }
   ],
   "source": [
    "type(accounts)"
   ]
  },
  {
   "cell_type": "code",
   "execution_count": null,
   "metadata": {},
   "outputs": [],
   "source": [
    "type(accounts[0])"
   ]
  },
  {
   "cell_type": "code",
   "execution_count": 9,
   "metadata": {},
   "outputs": [
    {
     "data": {
      "text/plain": [
       "'FunRunner'"
      ]
     },
     "execution_count": 9,
     "metadata": {},
     "output_type": "execute_result"
    }
   ],
   "source": [
    "wa_api.client_id"
   ]
  },
  {
   "cell_type": "code",
   "execution_count": 10,
   "metadata": {},
   "outputs": [
    {
     "data": {
      "text/plain": [
       "__main__.ApiObject"
      ]
     },
     "execution_count": 10,
     "metadata": {},
     "output_type": "execute_result"
    }
   ],
   "source": [
    "type(wa_api._token)"
   ]
  },
  {
   "cell_type": "code",
   "execution_count": 11,
   "metadata": {},
   "outputs": [
    {
     "ename": "AttributeError",
     "evalue": "'WaApiClient' object has no attribute 'response'",
     "output_type": "error",
     "traceback": [
      "\u001b[1;31m---------------------------------------------------------------------------\u001b[0m",
      "\u001b[1;31mAttributeError\u001b[0m                            Traceback (most recent call last)",
      "\u001b[1;32m<ipython-input-11-a6e88744a86b>\u001b[0m in \u001b[0;36m<module>\u001b[1;34m\u001b[0m\n\u001b[1;32m----> 1\u001b[1;33m \u001b[0mwa_api\u001b[0m\u001b[1;33m.\u001b[0m\u001b[0mresponse\u001b[0m\u001b[1;33m\u001b[0m\u001b[1;33m\u001b[0m\u001b[0m\n\u001b[0m",
      "\u001b[1;31mAttributeError\u001b[0m: 'WaApiClient' object has no attribute 'response'"
     ]
    }
   ],
   "source": [
    "wa_api.response"
   ]
  },
  {
   "cell_type": "code",
   "execution_count": 14,
   "metadata": {},
   "outputs": [],
   "source": [
    "import pickle\n",
    "contacts = pickle.load(open('wa_response.p', 'rb'))"
   ]
  },
  {
   "cell_type": "code",
   "execution_count": 15,
   "metadata": {},
   "outputs": [
    {
     "data": {
      "text/plain": [
       "list"
      ]
     },
     "execution_count": 15,
     "metadata": {},
     "output_type": "execute_result"
    }
   ],
   "source": [
    "type(contacts)\n"
   ]
  },
  {
   "cell_type": "code",
   "execution_count": 17,
   "metadata": {},
   "outputs": [
    {
     "data": {
      "text/plain": [
       "219"
      ]
     },
     "execution_count": 17,
     "metadata": {},
     "output_type": "execute_result"
    }
   ],
   "source": [
    "len(contacts)"
   ]
  },
  {
   "cell_type": "code",
   "execution_count": 18,
   "metadata": {},
   "outputs": [
    {
     "data": {
      "text/plain": [
       "chalicelib.wa_api.ApiObject"
      ]
     },
     "execution_count": 18,
     "metadata": {},
     "output_type": "execute_result"
    }
   ],
   "source": [
    "type(contacts[0])"
   ]
  },
  {
   "cell_type": "code",
   "execution_count": 19,
   "metadata": {},
   "outputs": [],
   "source": [
    "response = contacts"
   ]
  },
  {
   "cell_type": "code",
   "execution_count": 20,
   "metadata": {},
   "outputs": [
    {
     "data": {
      "text/plain": [
       "chalicelib.wa_api.ApiObject"
      ]
     },
     "execution_count": 20,
     "metadata": {},
     "output_type": "execute_result"
    }
   ],
   "source": [
    "type(response[0])"
   ]
  },
  {
   "cell_type": "code",
   "execution_count": 21,
   "metadata": {},
   "outputs": [],
   "source": [
    "contacts = [contact.__dict__ for contact in response]"
   ]
  },
  {
   "cell_type": "code",
   "execution_count": 22,
   "metadata": {},
   "outputs": [
    {
     "data": {
      "text/plain": [
       "dict"
      ]
     },
     "execution_count": 22,
     "metadata": {},
     "output_type": "execute_result"
    }
   ],
   "source": [
    "type(contacts[0])"
   ]
  },
  {
   "cell_type": "code",
   "execution_count": 23,
   "metadata": {},
   "outputs": [
    {
     "data": {
      "text/plain": [
       "219"
      ]
     },
     "execution_count": 23,
     "metadata": {},
     "output_type": "execute_result"
    }
   ],
   "source": [
    "len(contacts)"
   ]
  },
  {
   "cell_type": "code",
   "execution_count": 24,
   "metadata": {},
   "outputs": [
    {
     "name": "stdout",
     "output_type": "stream",
     "text": [
      "Is Chuks a member? Yes\n",
      "Is Hugh a member? Yes\n",
      "Is Vincent a member? Yes\n",
      "Is Jim a member? Yes\n",
      "Is Bonnie a member? Yes\n",
      "Is Richard a member? Yes\n",
      "Is Paul a member? Yes\n",
      "Is Bob a member? Yes\n",
      "Is Lisa a member? Yes\n",
      "Is Janice a member? Yes\n"
     ]
    }
   ],
   "source": [
    "for contact in contacts[0:10]:\n",
    "    print(f'Is {contact[\"FirstName\"]} a member? {\"Yes\" if contact[\"Status\"] == \"Active\" else \"No\"}' )"
   ]
  },
  {
   "cell_type": "code",
   "execution_count": 26,
   "metadata": {},
   "outputs": [
    {
     "name": "stdout",
     "output_type": "stream",
     "text": [
      "Is Chuks a member? No\n",
      "Is Hugh a member? Yes\n",
      "Is Vincent a member? Yes\n",
      "Is Jim a member? Yes\n",
      "Is Bonnie a member? Yes\n",
      "Is Richard a member? Yes\n",
      "Is Paul a member? Yes\n",
      "Is Bob a member? Yes\n",
      "Is Lisa a member? Yes\n",
      "Is Janice a member? Yes\n"
     ]
    }
   ],
   "source": [
    "contacts[0][\"Status\"] = \"Inactive\"\n",
    "for contact in contacts[0:10]:\n",
    "    print(f'Is {contact[\"FirstName\"]} a member? {\"Yes\" if contact[\"Status\"] == \"Active\" else \"No\"}' )\n",
    "contacts[0][\"Status\"] = \"Active\""
   ]
  },
  {
   "cell_type": "code",
   "execution_count": 30,
   "metadata": {},
   "outputs": [],
   "source": [
    "import pickle\n",
    "api_response = pickle.load(open('wa_all_contacts.p', 'rb'))\n",
    "all_contacts = [contact.__dict__ for contact in api_response]"
   ]
  },
  {
   "cell_type": "code",
   "execution_count": 44,
   "metadata": {},
   "outputs": [
    {
     "data": {
      "text/plain": [
       "1298"
      ]
     },
     "execution_count": 44,
     "metadata": {},
     "output_type": "execute_result"
    }
   ],
   "source": [
    "len(all_contacts)"
   ]
  },
  {
   "cell_type": "code",
   "execution_count": 33,
   "metadata": {},
   "outputs": [
    {
     "data": {
      "text/plain": [
       "list"
      ]
     },
     "execution_count": 33,
     "metadata": {},
     "output_type": "execute_result"
    }
   ],
   "source": [
    "type(all_contacts)"
   ]
  },
  {
   "cell_type": "code",
   "execution_count": 36,
   "metadata": {},
   "outputs": [
    {
     "data": {
      "text/plain": [
       "dict"
      ]
     },
     "execution_count": 36,
     "metadata": {},
     "output_type": "execute_result"
    }
   ],
   "source": [
    "type(all_contacts[0])"
   ]
  },
  {
   "cell_type": "code",
   "execution_count": 41,
   "metadata": {},
   "outputs": [
    {
     "name": "stdout",
     "output_type": "stream",
     "text": [
      "dict_keys(['FirstName', 'LastName', 'Email', 'DisplayName', 'Organization', 'ProfileLastUpdated', 'MembershipLevel', 'MembershipEnabled', 'Status', 'FieldValues', 'Id', 'Url', 'IsAccountAdministrator', 'TermsOfUseAccepted'])\n"
     ]
    }
   ],
   "source": [
    "print(all_contacts[0].keys())"
   ]
  },
  {
   "cell_type": "code",
   "execution_count": 45,
   "metadata": {},
   "outputs": [
    {
     "name": "stdout",
     "output_type": "stream",
     "text": [
      "Lapsed\n",
      "Active\n"
     ]
    },
    {
     "ename": "KeyError",
     "evalue": "'Status'",
     "output_type": "error",
     "traceback": [
      "\u001b[1;31m---------------------------------------------------------------------------\u001b[0m",
      "\u001b[1;31mKeyError\u001b[0m                                  Traceback (most recent call last)",
      "\u001b[1;32m<ipython-input-45-4cbb7665636c>\u001b[0m in \u001b[0;36m<module>\u001b[1;34m\u001b[0m\n\u001b[0;32m      1\u001b[0m \u001b[1;32mfor\u001b[0m \u001b[0mcontact\u001b[0m \u001b[1;32min\u001b[0m \u001b[0mall_contacts\u001b[0m\u001b[1;33m[\u001b[0m\u001b[1;36m0\u001b[0m\u001b[1;33m:\u001b[0m\u001b[1;36m10\u001b[0m\u001b[1;33m]\u001b[0m\u001b[1;33m:\u001b[0m\u001b[1;33m\u001b[0m\u001b[1;33m\u001b[0m\u001b[0m\n\u001b[1;32m----> 2\u001b[1;33m     \u001b[0mprint\u001b[0m\u001b[1;33m(\u001b[0m\u001b[0mcontact\u001b[0m\u001b[1;33m[\u001b[0m\u001b[1;34m'Status'\u001b[0m\u001b[1;33m]\u001b[0m\u001b[1;33m)\u001b[0m\u001b[1;33m\u001b[0m\u001b[1;33m\u001b[0m\u001b[0m\n\u001b[0m",
      "\u001b[1;31mKeyError\u001b[0m: 'Status'"
     ]
    }
   ],
   "source": [
    "for contact in all_contacts[0:10]:\n",
    "    print(contact['Status'])"
   ]
  },
  {
   "cell_type": "code",
   "execution_count": 46,
   "metadata": {},
   "outputs": [
    {
     "data": {
      "text/plain": [
       "267"
      ]
     },
     "execution_count": 46,
     "metadata": {},
     "output_type": "execute_result"
    }
   ],
   "source": [
    "members = [contact for contact in all_contacts if \"Status\" in contact and contact[\"Status\"] == \"Active\"]\n",
    "len(members)"
   ]
  },
  {
   "cell_type": "code",
   "execution_count": null,
   "metadata": {},
   "outputs": [],
   "source": []
  },
  {
   "cell_type": "code",
   "execution_count": null,
   "metadata": {},
   "outputs": [],
   "source": []
  }
 ],
 "metadata": {
  "kernelspec": {
   "display_name": "Python 3.7",
   "language": "python",
   "name": "python3"
  },
  "language_info": {
   "codemirror_mode": {
    "name": "ipython",
    "version": 3
   },
   "file_extension": ".py",
   "mimetype": "text/x-python",
   "name": "python",
   "nbconvert_exporter": "python",
   "pygments_lexer": "ipython3",
   "version": "3.7.3"
  }
 },
 "nbformat": 4,
 "nbformat_minor": 2
}
